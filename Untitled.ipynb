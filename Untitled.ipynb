{
 "cells": [
  {
   "cell_type": "code",
   "execution_count": null,
   "id": "2bc78af3",
   "metadata": {},
   "outputs": [],
   "source": [
    "#>/#>/#>/#>/'>/\">/#>/#7/$7/@8/#8_$8/#7yf9ys8yf7tditd9yc8yf8tdidiyd8ycitd8tst8d7tdigd8td8txigx8tdigx857yf9ys8yf7tditd9yc8yf8tdidiyd8ycitd8tst8d7tdigd8td8txigx8tdigx85digx8tdiyx8td8tdohx85dohc8tditxihd8yc\n",
    "\""
   ]
  },
  {
   "cell_type": "code",
   "execution_count": null,
   "id": "5c4a819f",
   "metadata": {},
   "outputs": [],
   "source": [
    "diyxigxiyxohcoyxiyx7txigzutciydiyfohcojcigxocutdiyzutxgkdohfutxitcohcz7ts8ydd</$>->/-8/$8_8_$8_@7/$[<#>/@8_$]<%>_@_=$_8=8867/#9<$7/+7/$●8}●£{▪︎€□▪︎£■▪︎£}¤£■▪︎¥}▪︎{▪︎£}●dihcohziycuvdihcohziycuvd8yc9ycigcohcihchocohcihcocigchockh hkcigcigcohcigcohcitxigcigciydt8diyxitdixitxigxifxigxigxigxigcigx\n",
    "zitx8tzigxifzitxfizufxifzufxgizurxifzutxigxurzifxurzigxufx8txitx8itx8tzigxifzitxfizufxifzufxgizurxifzutxigxurzifxurzigxufx8txitx8tcigc8gcigx8txigx8hcod8cigc8tcohc8txogc8txohc8tcogc8txohc8tx#>_#>/#8/#8/#8/#8/#8_$8/#>_#9_\"8/#8/$>_#8/#8_$8/#8/$[_#8/#9_$8_$9_#8/$8/'>_#8_$99_$8/#9_\"8_#9_$8/$99_'9<\"8/#8yd8tc9yd9yx8td9ycouc8td9yf9yd\n",
    "\""
   ]
  },
  {
   "cell_type": "code",
   "execution_count": null,
   "id": "2976a85b",
   "metadata": {},
   "outputs": [],
   "source": [
    "diyd8yd8yd8yx8ydiyd8td8yd8yd8td9yd8td9yc8yd9ydiyd8tdohf8ydoyd9yc9iyd8yd8yd8yx8ydiyd8td8yd8yd8td9yd8td9yc8yd9ydiyd8tdohf8ydoyd9yc9yfohd8yd8tcohd8txoyc8yd9hc9yd9ycohf9ycohc8yfouc8yf9f9yfohc8ydohc9yfohc9yf9hcoyf9ycohf9yfouf9yfouf9yfohc9yfohf\n"
   ]
  }
 ],
 "metadata": {
  "kernelspec": {
   "display_name": "Python 3 (ipykernel)",
   "language": "python",
   "name": "python3"
  },
  "language_info": {
   "codemirror_mode": {
    "name": "ipython",
    "version": 3
   },
   "file_extension": ".py",
   "mimetype": "text/x-python",
   "name": "python",
   "nbconvert_exporter": "python",
   "pygments_lexer": "ipython3",
   "version": "3.10.8"
  }
 },
 "nbformat": 4,
 "nbformat_minor": 5
}
