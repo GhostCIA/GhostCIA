{
 "cells": [
  {
   "cell_type": "code",
   "execution_count": null,
   "id": "5c4a819f",
   "metadata": {},
   "outputs": [],
   "source": [
    "diyxigxiyxohcoyxiyx7txigzutciydiyfohcojcigxocutdiyzutxgkdohfutxitcohcz7ts8ydd</$>->/-8/$8_8_$8_@7/$[<#>/@8_$]<%>_@_=$_8=8867/#9<$7/+7/$●8}●£{▪︎€□▪︎£■▪︎£}¤£■▪︎¥}▪︎{▪︎£}●dihcohziycuv\n",
    "\n"
   ]
  },
  {
   "cell_type": "code",
   "execution_count": null,
   "id": "2976a85b",
   "metadata": {},
   "outputs": [],
   "source": []
  }
 ],
 "metadata": {
  "kernelspec": {
   "display_name": "Python 3 (ipykernel)",
   "language": "python",
   "name": "python3"
  },
  "language_info": {
   "codemirror_mode": {
    "name": "ipython",
    "version": 3
   },
   "file_extension": ".py",
   "mimetype": "text/x-python",
   "name": "python",
   "nbconvert_exporter": "python",
   "pygments_lexer": "ipython3",
   "version": "3.10.8"
  }
 },
 "nbformat": 4,
 "nbformat_minor": 5
}
